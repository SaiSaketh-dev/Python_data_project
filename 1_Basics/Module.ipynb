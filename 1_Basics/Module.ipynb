{
  "nbformat": 4,
  "nbformat_minor": 0,
  "metadata": {
    "colab": {
      "provenance": []
    },
    "kernelspec": {
      "name": "python3",
      "display_name": "Python 3"
    },
    "language_info": {
      "name": "python"
    }
  },
  "cells": [
    {
      "cell_type": "code",
      "execution_count": null,
      "metadata": {
        "id": "wsI_XVwUavfa"
      },
      "outputs": [],
      "source": [
        "import my_module"
      ]
    },
    {
      "cell_type": "code",
      "source": [
        "my_module.skill_test"
      ],
      "metadata": {
        "colab": {
          "base_uri": "https://localhost:8080/"
        },
        "id": "XCoyfO4tbV1Y",
        "outputId": "92c45496-865f-4266-d23f-947c185337a9"
      },
      "execution_count": null,
      "outputs": [
        {
          "output_type": "execute_result",
          "data": {
            "text/plain": [
              "['python', 'sql', 'excel']"
            ]
          },
          "metadata": {},
          "execution_count": 2
        }
      ]
    },
    {
      "cell_type": "code",
      "source": [
        "import my_module\n",
        "my_module.favourate_skill('python')"
      ],
      "metadata": {
        "colab": {
          "base_uri": "https://localhost:8080/",
          "height": 35
        },
        "id": "R83f7pVkbZhS",
        "outputId": "0992fdf7-53a9-4747-a86d-71731a775c32"
      },
      "execution_count": null,
      "outputs": [
        {
          "output_type": "execute_result",
          "data": {
            "text/plain": [
              "'python is my favourite skill'"
            ],
            "application/vnd.google.colaboratory.intrinsic+json": {
              "type": "string"
            }
          },
          "metadata": {},
          "execution_count": 3
        }
      ]
    },
    {
      "cell_type": "code",
      "source": [
        "import job_analyzer"
      ],
      "metadata": {
        "id": "VUMFoCM5d7Xn"
      },
      "execution_count": null,
      "outputs": []
    },
    {
      "cell_type": "code",
      "source": [
        "job_analyzer.calculate_salary(100,0.5)"
      ],
      "metadata": {
        "colab": {
          "base_uri": "https://localhost:8080/"
        },
        "id": "-vQwG1gQehhg",
        "outputId": "6c85c715-b901-415b-f5ca-959a47c2280d"
      },
      "execution_count": null,
      "outputs": [
        {
          "output_type": "execute_result",
          "data": {
            "text/plain": [
              "150.0"
            ]
          },
          "metadata": {},
          "execution_count": 5
        }
      ]
    },
    {
      "cell_type": "code",
      "source": [
        "from job_analyzer import calculate_salary, calculate_bonus\n",
        "calculate_salary(100,0.5)\n",
        "calculate_bonus(100,105)"
      ],
      "metadata": {
        "colab": {
          "base_uri": "https://localhost:8080/"
        },
        "id": "GNWtbfp3emW_",
        "outputId": "8dc8d0c6-d362-486c-9062-d230e6a7b8ad"
      },
      "execution_count": null,
      "outputs": [
        {
          "output_type": "execute_result",
          "data": {
            "text/plain": [
              "0.05"
            ]
          },
          "metadata": {},
          "execution_count": 6
        }
      ]
    },
    {
      "cell_type": "code",
      "source": [
        "from job_analyzer import *\n",
        "calculate_salary(100,0.5)\n",
        "calculate_bonus(100,105)"
      ],
      "metadata": {
        "colab": {
          "base_uri": "https://localhost:8080/"
        },
        "id": "VrzmWIKBg_rj",
        "outputId": "3a8110ed-8373-4fb0-9883-45d20bb570cf"
      },
      "execution_count": null,
      "outputs": [
        {
          "output_type": "execute_result",
          "data": {
            "text/plain": [
              "0.05"
            ]
          },
          "metadata": {},
          "execution_count": 7
        }
      ]
    },
    {
      "cell_type": "code",
      "source": [
        "help(calculate_salary)"
      ],
      "metadata": {
        "colab": {
          "base_uri": "https://localhost:8080/"
        },
        "id": "sDqoMVUXit_3",
        "outputId": "db28249d-30fa-4926-d199-f4e6288829cf"
      },
      "execution_count": null,
      "outputs": [
        {
          "output_type": "stream",
          "name": "stdout",
          "text": [
            "Help on function calculate_salary in module job_analyzer:\n",
            "\n",
            "calculate_salary(base_salary, bonus_rate)\n",
            "    Calculates total salary based on base salary and bonus rate\n",
            "    \n",
            "    returns total salary\n",
            "\n"
          ]
        }
      ]
    },
    {
      "cell_type": "code",
      "source": [],
      "metadata": {
        "id": "JKTFdesfiwN1"
      },
      "execution_count": null,
      "outputs": []
    }
  ]
}