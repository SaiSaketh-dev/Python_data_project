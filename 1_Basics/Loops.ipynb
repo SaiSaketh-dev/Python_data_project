{
  "nbformat": 4,
  "nbformat_minor": 0,
  "metadata": {
    "colab": {
      "provenance": [],
      "toc_visible": true
    },
    "kernelspec": {
      "name": "python3",
      "display_name": "Python 3"
    },
    "language_info": {
      "name": "python"
    }
  },
  "cells": [
    {
      "cell_type": "code",
      "execution_count": null,
      "metadata": {
        "id": "-Syg8qoLPWiu"
      },
      "outputs": [],
      "source": []
    },
    {
      "cell_type": "markdown",
      "source": [
        "# Loops - for and while"
      ],
      "metadata": {
        "id": "p5MIjwx4QjvH"
      }
    },
    {
      "cell_type": "code",
      "source": [
        "numbers = [0, 1, 2, 3, 4, 5]\n",
        "\n",
        "for x in numbers: # numbers here is called iterable and it can be of any data type like lists, dictionary, sets, tuples and even string\n",
        "  print(x)"
      ],
      "metadata": {
        "colab": {
          "base_uri": "https://localhost:8080/"
        },
        "id": "CkgirPSPQk3o",
        "outputId": "fc9f38c9-c423-4130-af4b-fbb2a5094711"
      },
      "execution_count": null,
      "outputs": [
        {
          "output_type": "stream",
          "name": "stdout",
          "text": [
            "0\n",
            "1\n",
            "2\n",
            "3\n",
            "4\n",
            "5\n"
          ]
        }
      ]
    },
    {
      "cell_type": "code",
      "source": [
        "string = 'python'\n",
        "for str in string:\n",
        "  print(str)"
      ],
      "metadata": {
        "colab": {
          "base_uri": "https://localhost:8080/"
        },
        "id": "jJ5iIaJsQ7Bh",
        "outputId": "afec3ace-638a-4c99-d636-f1bf34496206"
      },
      "execution_count": null,
      "outputs": [
        {
          "output_type": "stream",
          "name": "stdout",
          "text": [
            "p\n",
            "y\n",
            "t\n",
            "h\n",
            "o\n",
            "n\n"
          ]
        }
      ]
    },
    {
      "cell_type": "code",
      "source": [
        "years_experience = {\n",
        "    'sai' : 9,\n",
        "    'siri' : 4,\n",
        "    'krishna' : 5,\n",
        "    'priyanka' : 5\n",
        "}\n",
        "\n",
        "years_experience"
      ],
      "metadata": {
        "colab": {
          "base_uri": "https://localhost:8080/"
        },
        "id": "oifxcfBZRWj2",
        "outputId": "e06f39b7-7b04-413b-b9ec-0cc058597bd7"
      },
      "execution_count": null,
      "outputs": [
        {
          "output_type": "execute_result",
          "data": {
            "text/plain": [
              "{'sai': 9, 'siri': 4, 'krishna': 5, 'priyanka': 5}"
            ]
          },
          "metadata": {},
          "execution_count": 44
        }
      ]
    },
    {
      "cell_type": "code",
      "source": [
        "for person in years_experience: # normal for gives only keys for dictionary iterbale\n",
        "  print(person)"
      ],
      "metadata": {
        "colab": {
          "base_uri": "https://localhost:8080/"
        },
        "id": "vFDDOKp5SkL-",
        "outputId": "bda6153d-2dcd-412f-ca31-d53f197f6fad"
      },
      "execution_count": null,
      "outputs": [
        {
          "output_type": "stream",
          "name": "stdout",
          "text": [
            "sai\n",
            "siri\n",
            "krishna\n",
            "priyanka\n"
          ]
        }
      ]
    },
    {
      "cell_type": "code",
      "source": [
        "for values in years_experience.values(): # to get values, use .value() function\n",
        "  print(values)"
      ],
      "metadata": {
        "colab": {
          "base_uri": "https://localhost:8080/"
        },
        "id": "aXrlBBqLSss9",
        "outputId": "dc53a685-deec-45ba-9636-8b0508d591b6"
      },
      "execution_count": null,
      "outputs": [
        {
          "output_type": "stream",
          "name": "stdout",
          "text": [
            "9\n",
            "4\n",
            "5\n",
            "5\n"
          ]
        }
      ]
    },
    {
      "cell_type": "code",
      "source": [
        "for key, value in years_experience.items(): # to get both keys and values, use .items() function, but since keys and values are to be used in the loop as vaiarables, both of them to be defined as illustrated in this example\n",
        "  print(key,value)"
      ],
      "metadata": {
        "colab": {
          "base_uri": "https://localhost:8080/"
        },
        "id": "okSPqER2Sz3m",
        "outputId": "46eb5f40-7b73-4f72-8461-71fee777e105"
      },
      "execution_count": null,
      "outputs": [
        {
          "output_type": "stream",
          "name": "stdout",
          "text": [
            "sai 9\n",
            "siri 4\n",
            "krishna 5\n",
            "priyanka 5\n"
          ]
        }
      ]
    },
    {
      "cell_type": "code",
      "source": [
        "# incorporating if statement in the for loop\n",
        "\n",
        "for key, value in years_experience.items():\n",
        "  if value > 6:\n",
        "    print(key ,'has', value,  'years of experience')"
      ],
      "metadata": {
        "colab": {
          "base_uri": "https://localhost:8080/"
        },
        "id": "oal7GvRcS-YB",
        "outputId": "d27b6c6f-9768-4e99-e8ac-a093d077b97c"
      },
      "execution_count": null,
      "outputs": [
        {
          "output_type": "stream",
          "name": "stdout",
          "text": [
            "sai has 9 years of experience\n"
          ]
        }
      ]
    },
    {
      "cell_type": "code",
      "source": [
        "# range() function is commonly used in a for loop\n",
        "\n",
        "range(5)"
      ],
      "metadata": {
        "colab": {
          "base_uri": "https://localhost:8080/"
        },
        "id": "0Zkp0FJoUX65",
        "outputId": "b55ce51e-ae88-4a37-9a43-34ba08e6ed00"
      },
      "execution_count": null,
      "outputs": [
        {
          "output_type": "execute_result",
          "data": {
            "text/plain": [
              "range(0, 5)"
            ]
          },
          "metadata": {},
          "execution_count": 49
        }
      ]
    },
    {
      "cell_type": "code",
      "source": [
        "tuple(range(5))"
      ],
      "metadata": {
        "colab": {
          "base_uri": "https://localhost:8080/"
        },
        "id": "eXngx3njWA7E",
        "outputId": "01567782-bca7-44f1-be89-ca834f6dde85"
      },
      "execution_count": null,
      "outputs": [
        {
          "output_type": "execute_result",
          "data": {
            "text/plain": [
              "(0, 1, 2, 3, 4)"
            ]
          },
          "metadata": {},
          "execution_count": 50
        }
      ]
    },
    {
      "cell_type": "code",
      "source": [
        "for _ in range(100):\n",
        "  print(_)"
      ],
      "metadata": {
        "colab": {
          "base_uri": "https://localhost:8080/"
        },
        "id": "jBkzLRAYWF1E",
        "outputId": "f7154f68-c197-49f9-d078-754874d20d83"
      },
      "execution_count": null,
      "outputs": [
        {
          "output_type": "stream",
          "name": "stdout",
          "text": [
            "0\n",
            "1\n",
            "2\n",
            "3\n",
            "4\n",
            "5\n",
            "6\n",
            "7\n",
            "8\n",
            "9\n",
            "10\n",
            "11\n",
            "12\n",
            "13\n",
            "14\n",
            "15\n",
            "16\n",
            "17\n",
            "18\n",
            "19\n",
            "20\n",
            "21\n",
            "22\n",
            "23\n",
            "24\n",
            "25\n",
            "26\n",
            "27\n",
            "28\n",
            "29\n",
            "30\n",
            "31\n",
            "32\n",
            "33\n",
            "34\n",
            "35\n",
            "36\n",
            "37\n",
            "38\n",
            "39\n",
            "40\n",
            "41\n",
            "42\n",
            "43\n",
            "44\n",
            "45\n",
            "46\n",
            "47\n",
            "48\n",
            "49\n",
            "50\n",
            "51\n",
            "52\n",
            "53\n",
            "54\n",
            "55\n",
            "56\n",
            "57\n",
            "58\n",
            "59\n",
            "60\n",
            "61\n",
            "62\n",
            "63\n",
            "64\n",
            "65\n",
            "66\n",
            "67\n",
            "68\n",
            "69\n",
            "70\n",
            "71\n",
            "72\n",
            "73\n",
            "74\n",
            "75\n",
            "76\n",
            "77\n",
            "78\n",
            "79\n",
            "80\n",
            "81\n",
            "82\n",
            "83\n",
            "84\n",
            "85\n",
            "86\n",
            "87\n",
            "88\n",
            "89\n",
            "90\n",
            "91\n",
            "92\n",
            "93\n",
            "94\n",
            "95\n",
            "96\n",
            "97\n",
            "98\n",
            "99\n"
          ]
        }
      ]
    },
    {
      "cell_type": "code",
      "source": [
        "# while loops are similar to for loop + if condition, i.e, if certain certitions are met only then it executes.\n",
        "\n",
        "count = 1\n",
        "while count < 5:\n",
        "  print(count)\n",
        "  count += 1"
      ],
      "metadata": {
        "colab": {
          "base_uri": "https://localhost:8080/"
        },
        "id": "gThpybbpWMAW",
        "outputId": "cf76bf8c-9b9b-41ca-d897-74ce89c30ad9"
      },
      "execution_count": null,
      "outputs": [
        {
          "output_type": "stream",
          "name": "stdout",
          "text": [
            "1\n",
            "2\n",
            "3\n",
            "4\n"
          ]
        }
      ]
    },
    {
      "cell_type": "code",
      "source": [
        "years_experience = {\n",
        "    'sai' : 15,\n",
        "    'siri' : 5,\n",
        "    'krishna' : 6,\n",
        "    'priyanka' : 5\n",
        "}\n",
        "\n",
        "years_experience"
      ],
      "metadata": {
        "colab": {
          "base_uri": "https://localhost:8080/"
        },
        "id": "qZjwy3XhXKNJ",
        "outputId": "917e67b5-4ee6-467e-b523-c6919d901b2b"
      },
      "execution_count": null,
      "outputs": [
        {
          "output_type": "execute_result",
          "data": {
            "text/plain": [
              "{'sai': 15, 'siri': 5, 'krishna': 6, 'priyanka': 5}"
            ]
          },
          "metadata": {},
          "execution_count": 53
        }
      ]
    },
    {
      "cell_type": "code",
      "source": [
        "years_list = list(years_experience)\n",
        "years_list"
      ],
      "metadata": {
        "colab": {
          "base_uri": "https://localhost:8080/"
        },
        "id": "MF2zTHp_ZGEl",
        "outputId": "4fbc3946-0045-447c-e240-f3c584c276f1"
      },
      "execution_count": null,
      "outputs": [
        {
          "output_type": "execute_result",
          "data": {
            "text/plain": [
              "['sai', 'siri', 'krishna', 'priyanka']"
            ]
          },
          "metadata": {},
          "execution_count": 54
        }
      ]
    },
    {
      "cell_type": "code",
      "source": [
        "years_list = list(years_experience.items()) # to get values as well we should use .items()\n",
        "years_list"
      ],
      "metadata": {
        "colab": {
          "base_uri": "https://localhost:8080/"
        },
        "id": "4iBX5mwvZRMY",
        "outputId": "916caac7-803e-495e-c564-a2f0d8535942"
      },
      "execution_count": null,
      "outputs": [
        {
          "output_type": "execute_result",
          "data": {
            "text/plain": [
              "[('sai', 15), ('siri', 5), ('krishna', 6), ('priyanka', 5)]"
            ]
          },
          "metadata": {},
          "execution_count": 55
        }
      ]
    },
    {
      "cell_type": "code",
      "source": [
        "index = 0\n",
        "years_list = list(years_experience.items())\n",
        "while index < len(years_list):\n",
        "  name, experience = years_list[index]\n",
        "  if experience > 5:\n",
        "   print(name,experience)\n",
        "  index += 1\n"
      ],
      "metadata": {
        "colab": {
          "base_uri": "https://localhost:8080/"
        },
        "id": "XhjsZBuIZdXi",
        "outputId": "c94ad3b7-feb7-43a3-eced-a8528ccf1a44"
      },
      "execution_count": null,
      "outputs": [
        {
          "output_type": "stream",
          "name": "stdout",
          "text": [
            "sai 15\n",
            "krishna 6\n"
          ]
        }
      ]
    },
    {
      "cell_type": "code",
      "source": [
        "for name, experience in years_list: # no need to counters in for loop\n",
        "  if experience <6:\n",
        "    print(name,experience)"
      ],
      "metadata": {
        "colab": {
          "base_uri": "https://localhost:8080/"
        },
        "id": "8UqsEcVw1XHi",
        "outputId": "323c2f1f-f956-4098-dfbd-17dd371d343f"
      },
      "execution_count": null,
      "outputs": [
        {
          "output_type": "stream",
          "name": "stdout",
          "text": [
            "siri 5\n",
            "priyanka 5\n"
          ]
        }
      ]
    },
    {
      "cell_type": "markdown",
      "source": [
        "# List Comprehension"
      ],
      "metadata": {
        "id": "Fikjuo7e8xut"
      }
    },
    {
      "cell_type": "code",
      "source": [
        "job_titles = [\n",
        "    \"Data Scientist\",\n",
        "    \"Data Analyst\",\n",
        "    \"Machine Learning Engineer\",\n",
        "    \"Data Engineer\",\n",
        "    \"AI Researcher\",\n",
        "    \"Business Intelligence Analyst\",\n",
        "    \"Statistician\",\n",
        "    \"Data Science Intern\",\n",
        "    \"Big Data Engineer\",\n",
        "    \"Applied Scientist\",\n",
        "    \"Research Scientist\",\n",
        "    \"ML Ops Engineer\",\n",
        "    \"Quantitative Analyst\",\n",
        "    \"Decision Scientist\",\n",
        "    \"Computer Vision Engineer\",\n",
        "    \"NLP Engineer\",\n",
        "    \"Deep Learning Engineer\",\n",
        "    \"Analytics Consultant\",\n",
        "    \"Data Architect\",\n",
        "    \"Insight Analyst\",\n",
        "    \"Data Analyst Engineer\",\n",
        "    \"Data Analyst Programmer\"\n",
        "]\n"
      ],
      "metadata": {
        "id": "y2oeL4Lovf4O"
      },
      "execution_count": null,
      "outputs": []
    },
    {
      "cell_type": "code",
      "source": [
        "data_analyst = []\n",
        "for job in job_titles:\n",
        "  if 'Data Analyst' in job:\n",
        "    data_analyst.append(job)\n",
        "print(data_analyst)"
      ],
      "metadata": {
        "colab": {
          "base_uri": "https://localhost:8080/"
        },
        "id": "oHDVOdRS_hcE",
        "outputId": "7555e636-871f-4efa-9953-df8fe53ded84"
      },
      "execution_count": null,
      "outputs": [
        {
          "output_type": "stream",
          "name": "stdout",
          "text": [
            "['Data Analyst', 'Data Analyst Engineer', 'Data Analyst Programmer']\n"
          ]
        }
      ]
    },
    {
      "cell_type": "code",
      "source": [
        "data_analyst = [job for job in job_titles if 'Data Analyst' in job]\n",
        "print(data_analyst)"
      ],
      "metadata": {
        "colab": {
          "base_uri": "https://localhost:8080/"
        },
        "id": "B9tVU-7IFAO1",
        "outputId": "02f4551d-e87a-42be-f0fa-3cb5e48d7b7e"
      },
      "execution_count": null,
      "outputs": [
        {
          "output_type": "stream",
          "name": "stdout",
          "text": [
            "['Data Analyst', 'Data Analyst Engineer', 'Data Analyst Programmer']\n"
          ]
        }
      ]
    }
  ]
}